{
  "nbformat": 4,
  "nbformat_minor": 0,
  "metadata": {
    "colab": {
      "provenance": []
    },
    "kernelspec": {
      "name": "python3",
      "display_name": "Python 3"
    },
    "language_info": {
      "name": "python"
    }
  },
  "cells": [
    {
      "cell_type": "code",
      "execution_count": 1,
      "metadata": {
        "colab": {
          "base_uri": "https://localhost:8080/",
          "height": 332
        },
        "id": "bWZ3t1Q2b-Uv",
        "outputId": "cf5b5702-d8a0-492e-93c3-e0d361fbe860"
      },
      "outputs": [
        {
          "output_type": "error",
          "ename": "TclError",
          "evalue": "no display name and no $DISPLAY environment variable",
          "traceback": [
            "\u001b[0;31m---------------------------------------------------------------------------\u001b[0m",
            "\u001b[0;31mTclError\u001b[0m                                  Traceback (most recent call last)",
            "\u001b[0;32m<ipython-input-1-ba905f55dd8a>\u001b[0m in \u001b[0;36m<cell line: 34>\u001b[0;34m()\u001b[0m\n\u001b[1;32m     32\u001b[0m         \u001b[0mcomplaint_listbox\u001b[0m\u001b[0;34m.\u001b[0m\u001b[0minsert\u001b[0m\u001b[0;34m(\u001b[0m\u001b[0mtk\u001b[0m\u001b[0;34m.\u001b[0m\u001b[0mEND\u001b[0m\u001b[0;34m,\u001b[0m \u001b[0;34mf\"{complaint['id']}: {complaint['title']} - {complaint['status']}\"\u001b[0m\u001b[0;34m)\u001b[0m\u001b[0;34m\u001b[0m\u001b[0;34m\u001b[0m\u001b[0m\n\u001b[1;32m     33\u001b[0m \u001b[0;34m\u001b[0m\u001b[0m\n\u001b[0;32m---> 34\u001b[0;31m \u001b[0mwindow\u001b[0m \u001b[0;34m=\u001b[0m \u001b[0mtk\u001b[0m\u001b[0;34m.\u001b[0m\u001b[0mTk\u001b[0m\u001b[0;34m(\u001b[0m\u001b[0;34m)\u001b[0m\u001b[0;34m\u001b[0m\u001b[0;34m\u001b[0m\u001b[0m\n\u001b[0m\u001b[1;32m     35\u001b[0m \u001b[0mwindow\u001b[0m\u001b[0;34m.\u001b[0m\u001b[0mtitle\u001b[0m\u001b[0;34m(\u001b[0m\u001b[0;34m\"Complaint Management System\"\u001b[0m\u001b[0;34m)\u001b[0m\u001b[0;34m\u001b[0m\u001b[0;34m\u001b[0m\u001b[0m\n\u001b[1;32m     36\u001b[0m \u001b[0;34m\u001b[0m\u001b[0m\n",
            "\u001b[0;32m/usr/lib/python3.10/tkinter/__init__.py\u001b[0m in \u001b[0;36m__init__\u001b[0;34m(self, screenName, baseName, className, useTk, sync, use)\u001b[0m\n\u001b[1;32m   2297\u001b[0m                 \u001b[0mbaseName\u001b[0m \u001b[0;34m=\u001b[0m \u001b[0mbaseName\u001b[0m \u001b[0;34m+\u001b[0m \u001b[0mext\u001b[0m\u001b[0;34m\u001b[0m\u001b[0;34m\u001b[0m\u001b[0m\n\u001b[1;32m   2298\u001b[0m         \u001b[0minteractive\u001b[0m \u001b[0;34m=\u001b[0m \u001b[0;32mFalse\u001b[0m\u001b[0;34m\u001b[0m\u001b[0;34m\u001b[0m\u001b[0m\n\u001b[0;32m-> 2299\u001b[0;31m         \u001b[0mself\u001b[0m\u001b[0;34m.\u001b[0m\u001b[0mtk\u001b[0m \u001b[0;34m=\u001b[0m \u001b[0m_tkinter\u001b[0m\u001b[0;34m.\u001b[0m\u001b[0mcreate\u001b[0m\u001b[0;34m(\u001b[0m\u001b[0mscreenName\u001b[0m\u001b[0;34m,\u001b[0m \u001b[0mbaseName\u001b[0m\u001b[0;34m,\u001b[0m \u001b[0mclassName\u001b[0m\u001b[0;34m,\u001b[0m \u001b[0minteractive\u001b[0m\u001b[0;34m,\u001b[0m \u001b[0mwantobjects\u001b[0m\u001b[0;34m,\u001b[0m \u001b[0museTk\u001b[0m\u001b[0;34m,\u001b[0m \u001b[0msync\u001b[0m\u001b[0;34m,\u001b[0m \u001b[0muse\u001b[0m\u001b[0;34m)\u001b[0m\u001b[0;34m\u001b[0m\u001b[0;34m\u001b[0m\u001b[0m\n\u001b[0m\u001b[1;32m   2300\u001b[0m         \u001b[0;32mif\u001b[0m \u001b[0museTk\u001b[0m\u001b[0;34m:\u001b[0m\u001b[0;34m\u001b[0m\u001b[0;34m\u001b[0m\u001b[0m\n\u001b[1;32m   2301\u001b[0m             \u001b[0mself\u001b[0m\u001b[0;34m.\u001b[0m\u001b[0m_loadtk\u001b[0m\u001b[0;34m(\u001b[0m\u001b[0;34m)\u001b[0m\u001b[0;34m\u001b[0m\u001b[0;34m\u001b[0m\u001b[0m\n",
            "\u001b[0;31mTclError\u001b[0m: no display name and no $DISPLAY environment variable"
          ]
        }
      ],
      "source": [
        "import tkinter as tk\n",
        "from tkinter import messagebox\n",
        "\n",
        "complaints = [\n",
        "    {\"id\": 1, \"title\": \"Network Issue\", \"description\": \"Slow internet connection\", \"status\": \"Open\"},\n",
        "    {\"id\": 2, \"title\": \"Bug in Software\", \"description\": \"Application crashes frequently\", \"status\": \"Open\"},\n",
        "    {\"id\": 3, \"title\": \"Payment Error\", \"description\": \"Incorrect billing amount\", \"status\": \"Resolved\"}\n",
        "]\n",
        "\n",
        "def submit_complaint():\n",
        "    title = title_entry.get()\n",
        "    description = description_text.get(\"1.0\", \"end-1c\")\n",
        "    complaints.append({\"id\": len(complaints) + 1, \"title\": title, \"description\": description, \"status\": \"Open\"})\n",
        "    messagebox.showinfo(\"Success\", \"Complaint submitted successfully!\")\n",
        "    refresh_complaint_list()\n",
        "\n",
        "def update_status():\n",
        "    selected_complaint = complaint_listbox.get(complaint_listbox.curselection())\n",
        "    if selected_complaint:\n",
        "        complaint_id = int(selected_complaint.split(\":\")[0])\n",
        "        new_status = status_entry.get()\n",
        "        for complaint in complaints:\n",
        "            if complaint[\"id\"] == complaint_id:\n",
        "                complaint[\"status\"] = new_status\n",
        "                break\n",
        "        refresh_complaint_list()\n",
        "        messagebox.showinfo(\"Success\", \"Complaint status updated successfully.\")\n",
        "\n",
        "def refresh_complaint_list():\n",
        "    complaint_listbox.delete(0, tk.END)\n",
        "    for complaint in complaints:\n",
        "        complaint_listbox.insert(tk.END, f\"{complaint['id']}: {complaint['title']} - {complaint['status']}\")\n",
        "\n",
        "window = tk.Tk()\n",
        "window.title(\"Complaint Management System\")\n",
        "\n",
        "title_label = tk.Label(window, text=\"Complaint Title:\")\n",
        "title_label.pack()\n",
        "\n",
        "title_entry = tk.Entry(window)\n",
        "title_entry.pack()\n",
        "\n",
        "description_label = tk.Label(window, text=\"Complaint Description:\")\n",
        "description_label.pack()\n",
        "\n",
        "description_text = tk.Text(window, height=5)\n",
        "description_text.pack()\n",
        "\n",
        "submit_button = tk.Button(window, text=\"Submit\", command=submit_complaint)\n",
        "submit_button.pack()\n",
        "\n",
        "complaint_listbox = tk.Listbox(window)\n",
        "complaint_listbox.pack()\n",
        "\n",
        "refresh_complaint_list()\n",
        "\n",
        "status_label = tk.Label(window, text=\"New Status:\")\n",
        "status_label.pack()\n",
        "\n",
        "status_entry = tk.Entry(window)\n",
        "status_entry.pack()\n",
        "\n",
        "update_button = tk.Button(window, text=\"Update Status\", command=update_status)\n",
        "update_button.pack()\n",
        "\n",
        "window.mainloop()\n",
        "\n"
      ]
    }
  ]
}